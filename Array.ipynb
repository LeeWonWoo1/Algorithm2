{
 "cells": [
  {
   "cell_type": "markdown",
   "metadata": {},
   "source": [
    "## 1. 배열 (Array)\n",
    "<br>\n",
    "* 데이터를 나열하고, 각 데이터를 인덱스에 대응하도록 구성한 데이터 구조<br>\n",
    "* 파이썬에서는 리스트 타입이 배열 기능을 제공함"
   ]
  },
  {
   "cell_type": "markdown",
   "metadata": {},
   "source": [
    "### 1-1. 배열은 왜 필요할까?\n",
    "\n",
    "- 같은 종류의 데이터를 효율적으로 관리하기 위해 사용\n",
    "- 같은 종류의 데이터를 순차적으로 저장\n",
    "- 장점: \n",
    "  - 빠른 접근 가능\n",
    "    - 첫 데이터의 위치에서 상대적인 위치로 데이터 접근(인덱스 번호로 접근)\n",
    "- 단점: \n",
    "  - 데이터 추가/삭제의 어려움\n",
    "    - 미리 최대 길이를 지정해야 함"
   ]
  },
  {
   "cell_type": "markdown",
   "metadata": {},
   "source": [
    "### 1-2. 파이썬과 C 언어의 배열 예제"
   ]
  },
  {
   "cell_type": "code",
   "execution_count": 3,
   "metadata": {},
   "outputs": [
    {
     "ename": "SyntaxError",
     "evalue": "invalid syntax (<ipython-input-3-8d18ff584fc9>, line 3)",
     "output_type": "error",
     "traceback": [
      "\u001b[1;36m  File \u001b[1;32m\"<ipython-input-3-8d18ff584fc9>\"\u001b[1;36m, line \u001b[1;32m3\u001b[0m\n\u001b[1;33m    int main(int argc, char * argv[])\u001b[0m\n\u001b[1;37m           ^\u001b[0m\n\u001b[1;31mSyntaxError\u001b[0m\u001b[1;31m:\u001b[0m invalid syntax\n"
     ]
    }
   ],
   "source": [
    "# C\n",
    "#include <stdio.h>\n",
    "\n",
    "int main(int argc, char * argv[])\n",
    "{\n",
    "    char country[3] = \"US\";\n",
    "    printf (\"%c%c\\n\", country[0], country[1]);\n",
    "    printf (\"%s\\n\", country);    \n",
    "    return 0;\n",
    "}"
   ]
  },
  {
   "cell_type": "code",
   "execution_count": 10,
   "metadata": {},
   "outputs": [
    {
     "name": "stdout",
     "output_type": "stream",
     "text": [
      "US\n",
      "USA\n"
     ]
    }
   ],
   "source": [
    "# Python\n",
    "\n",
    "country = 'US'\n",
    "print(country)\n",
    "\n",
    "country = country + 'A'\n",
    "print(country)"
   ]
  },
  {
   "cell_type": "markdown",
   "metadata": {},
   "source": [
    "### 1-3. 파이썬과 배열\n",
    "- 파이썬에서는 리스트로 배열 구현 가능"
   ]
  },
  {
   "cell_type": "code",
   "execution_count": 6,
   "metadata": {},
   "outputs": [
    {
     "data": {
      "text/plain": [
       "[1, 2, 3, 4, 5]"
      ]
     },
     "execution_count": 6,
     "metadata": {},
     "output_type": "execute_result"
    }
   ],
   "source": [
    "# 1차원 배열: 리스트로 구현시\n",
    "data_list = [1, 2, 3, 4, 5]\n",
    "data_list"
   ]
  },
  {
   "cell_type": "code",
   "execution_count": 7,
   "metadata": {},
   "outputs": [
    {
     "data": {
      "text/plain": [
       "[[1, 2, 3], [4, 5, 6], [7, 8, 9]]"
      ]
     },
     "execution_count": 7,
     "metadata": {},
     "output_type": "execute_result"
    }
   ],
   "source": [
    "# 2차원 배열: 리스트로 구현시\n",
    "data_list = [[1, 2, 3], [4, 5, 6], [7, 8, 9]]\n",
    "data_list"
   ]
  },
  {
   "cell_type": "code",
   "execution_count": 9,
   "metadata": {},
   "outputs": [
    {
     "name": "stdout",
     "output_type": "stream",
     "text": [
      "[1, 2, 3]\n",
      "1\n",
      "2\n",
      "3\n",
      "4\n",
      "5\n"
     ]
    }
   ],
   "source": [
    "print(data_list[0])\n",
    "print(data_list[0][0])\n",
    "print(data_list[0][1])\n",
    "print(data_list[0][2])\n",
    "print(data_list[1][0])\n",
    "print(data_list[1][1])"
   ]
  },
  {
   "cell_type": "markdown",
   "metadata": {},
   "source": [
    "### 1-4. 프로그래밍 연습 "
   ]
  },
  {
   "cell_type": "markdown",
   "metadata": {},
   "source": [
    "연습1: 위의 2차원 배열에서 9, 8, 7 을 순서대로 출력해보기"
   ]
  },
  {
   "cell_type": "code",
   "execution_count": 13,
   "metadata": {},
   "outputs": [
    {
     "name": "stdout",
     "output_type": "stream",
     "text": [
      "9 8 7\n"
     ]
    }
   ],
   "source": [
    "print(data_list[2][2], data_list[2][1], data_list[2][0])"
   ]
  },
  {
   "cell_type": "markdown",
   "metadata": {},
   "source": [
    "연습2: 아래의 dataset 리스트에서 전체 이름 안에 M 은 몇 번 나왔는지 빈도수 출력하기"
   ]
  },
  {
   "cell_type": "code",
   "execution_count": 14,
   "metadata": {},
   "outputs": [],
   "source": [
    "dataset = ['Braund, Mr. Owen Harris',\n",
    "'Cumings, Mrs. John Bradley (Florence Briggs Thayer)',\n",
    "'Heikkinen, Miss. Laina',\n",
    "'Futrelle, Mrs. Jacques Heath (Lily May Peel)',\n",
    "'Allen, Mr. William Henry',\n",
    "'Moran, Mr. James',\n",
    "'McCarthy, Mr. Timothy J',\n",
    "'Palsson, Master. Gosta Leonard',\n",
    "'Johnson, Mrs. Oscar W (Elisabeth Vilhelmina Berg)',\n",
    "'Nasser, Mrs. Nicholas (Adele Achem)',\n",
    "'Sandstrom, Miss. Marguerite Rut',\n",
    "'Bonnell, Miss. Elizabeth',\n",
    "'Saundercock, Mr. William Henry',\n",
    "'Andersson, Mr. Anders Johan',\n",
    "'Vestrom, Miss. Hulda Amanda Adolfina',\n",
    "'Hewlett, Mrs. (Mary D Kingcome) ',\n",
    "'Rice, Master. Eugene',\n",
    "'Williams, Mr. Charles Eugene',\n",
    "'Vander Planke, Mrs. Julius (Emelia Maria Vandemoortele)',\n",
    "'Masselmani, Mrs. Fatima',\n",
    "'Fynney, Mr. Joseph J',\n",
    "'Beesley, Mr. Lawrence',\n",
    "'McGowan, Miss. Anna \"Annie\"',\n",
    "'Sloper, Mr. William Thompson',\n",
    "'Palsson, Miss. Torborg Danira',\n",
    "'Asplund, Mrs. Carl Oscar (Selma Augusta Emilia Johansson)',\n",
    "'Emir, Mr. Farred Chehab',\n",
    "'Fortune, Mr. Charles Alexander',\n",
    "'Dwyer, Miss. Ellen \"Nellie\"',\n",
    "'Todoroff, Mr. Lalio']"
   ]
  },
  {
   "cell_type": "code",
   "execution_count": 21,
   "metadata": {},
   "outputs": [
    {
     "name": "stdout",
     "output_type": "stream",
     "text": [
      "38\n"
     ]
    }
   ],
   "source": [
    "m_count = 0\n",
    "for data in dataset :\n",
    "    for index in range(len(data)) :\n",
    "        if data[index] == 'M' :\n",
    "            m_count += 1\n",
    "\n",
    "print(m_count)"
   ]
  }
 ],
 "metadata": {
  "kernelspec": {
   "display_name": "Python 3",
   "language": "python",
   "name": "python3"
  },
  "language_info": {
   "codemirror_mode": {
    "name": "ipython",
    "version": 3
   },
   "file_extension": ".py",
   "mimetype": "text/x-python",
   "name": "python",
   "nbconvert_exporter": "python",
   "pygments_lexer": "ipython3",
   "version": "3.7.3"
  }
 },
 "nbformat": 4,
 "nbformat_minor": 2
}
